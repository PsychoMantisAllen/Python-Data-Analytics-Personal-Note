{
 "cells": [
  {
   "cell_type": "markdown",
   "metadata": {},
   "source": [
    "pandas 有一些内置的数学和统计计算方法，它们大多数都是 *reductions* 和 *summary statistics*：\n",
    "\n",
    "对 DataFrame 直接进行 `df.sum()` 将会对列求和，而指定 `axis = 'columns'` 将会对列求和。\n",
    "\n",
    "NaN 值将会被自动排除，除非整个切片（行或者列）都是 NaN；若不想跳过 NaN 值，直接使用 `skipna = False` 便可。\n",
    "\n",
    "以下是 *reduction methods*:\n",
    "\n",
    "Method | Description\n",
    ":- | :-\n",
    "`axis` | 指定行（0）或列（1）\n",
    "`skipna` | 排除缺失值，默认为 `True`\n",
    "`level` | 如果 axis 已分级索引（MultiIndex），则按级别减少分组\n",
    "\n",
    "某些 Method（例如`idxmin`和`idxmax`）返回数据内最小值或最大值的索引值；\n",
    "\n",
    "`cumsum` 则是累计求和，而 `describe` 则是将多种信息返回，包括 count, mean, std, min, 25%, 50%, 75%, max；非数字型数据 `describe` 返回的信息包括 count, unique, top, freq, dtype。\n",
    "\n",
    "以下是 *Descriptive and summary statistics* 常用的方程：\n",
    "\n",
    "Method | Description\n",
    ":- | :-\n",
    "`count` | 一只两只三只鸭（不记录缺失值）\n",
    "`describe` | 上面说过啦\n",
    "`min`, `max` | 最大最小\n",
    "`argmin`, `argmax` | 返回数据内最小值或最大值的索引值（integer）\n",
    "`idxmin`, `idxmax` | 上面说过鸟\n",
    "`quantile` | quantile辣就是\n",
    "`sum` | sum\n",
    "`mean` | mean\n",
    "`median` | median\n",
    "`mad` | mean absolute deviation from mean value\n",
    "`prod` | 所有数据的乘积\n",
    "`var` | sample variance of values\n",
    "`std` | sample standard deviation of values\n",
    "`skew` | sample skewness of values (third moment)\n",
    "`kurt` | sample kurtosis of values (fourth moment)\n",
    "`cumsum` | 上面说过的啦\n",
    "`cummin`, `cummax` | 像 cumsum 只不过变成 min max 而已啦\n",
    "`cumprod` | 乘积累积\n",
    "`diff` | first arithmetic differnece （time series 很有用）\n",
    "`pct_change` | 百分比变化"
   ]
  },
  {
   "cell_type": "markdown",
   "metadata": {},
   "source": [
    "### Correlation and Covariance"
   ]
  },
  {
   "cell_type": "markdown",
   "metadata": {},
   "source": [
    "这里介绍常用的两个 method：correlation & covariance：\n",
    "\n",
    "对于两个 Series 之间，我们将写成 `Series1.corr(Series2)` & `Series1.cov(Series2)`\n",
    "\n",
    "对于 DataFrame 而言，直接使用 `corr` 或者 `cov` 的话将会返回一个完整的矩阵。\n",
    "\n",
    "若想单独要一个 DataFrame 和 一个 Series 或者另一个 DataFrame 的返回值，则使用 `corrwith` method。\n",
    "\n",
    "同样在这里可以使用 `axis` 来表明自己需要返回的是行还是列。"
   ]
  },
  {
   "cell_type": "markdown",
   "metadata": {},
   "source": [
    "### Unique Values, Value Counts, and Membership"
   ]
  },
  {
   "cell_type": "markdown",
   "metadata": {},
   "source": [
    "接下来介绍一些 one-dimensional Series method：\n",
    "\n",
    "第一个是 `unique`，它将返回 Series 里面的唯一值。返回的唯一值不一定是排好序的，如果需要我们可以通过 `sort` 来进行进一步排序。\n",
    "\n",
    "`value_counts` 则是返回每个唯一值对应出现的频率，并且按照频率出现的高低以降序排序，用 `sort = False` 来取消自动排序。\n",
    "\n",
    "`isin` 可以有效地通过返回 Boolean 值来进行数据筛选。\n",
    "\n",
    "`match` 将数组中每个值的整数索引计算为另一个不同值的数组； 有助于 data alignment 和 join-type operations\n",
    "\n",
    "与 `isin` 相关的是 `Index.get_indexer` 方法，该 method 提供了一个索引数组，具体请参考例子："
   ]
  },
  {
   "cell_type": "code",
   "execution_count": 1,
   "metadata": {},
   "outputs": [
    {
     "data": {
      "text/plain": [
       "array([0, 2, 1, 1, 0, 2], dtype=int64)"
      ]
     },
     "execution_count": 1,
     "metadata": {},
     "output_type": "execute_result"
    }
   ],
   "source": [
    "import pandas as pd\n",
    "\n",
    "to_match = pd.Series(['c', 'a', 'b', 'b', 'c', 'a'])\n",
    "\n",
    "unique_vals = pd.Series(['c', 'b', 'a'])\n",
    "\n",
    "pd.Index(unique_vals).get_indexer(to_match)"
   ]
  },
  {
   "cell_type": "markdown",
   "metadata": {},
   "source": [
    "有时候你可能想生成一个基于 DataFrame 里不同列的 histogram，具体可参考例子："
   ]
  },
  {
   "cell_type": "code",
   "execution_count": 2,
   "metadata": {},
   "outputs": [],
   "source": [
    "data = pd.DataFrame({'Qu1': [1, 3, 4, 3, 4],\n",
    "                     'Qu2': [2, 3, 1, 2, 3],\n",
    "                     'Qu3': [1, 5, 2, 4, 4]})"
   ]
  },
  {
   "cell_type": "code",
   "execution_count": 3,
   "metadata": {},
   "outputs": [
    {
     "data": {
      "text/html": [
       "<div>\n",
       "<style scoped>\n",
       "    .dataframe tbody tr th:only-of-type {\n",
       "        vertical-align: middle;\n",
       "    }\n",
       "\n",
       "    .dataframe tbody tr th {\n",
       "        vertical-align: top;\n",
       "    }\n",
       "\n",
       "    .dataframe thead th {\n",
       "        text-align: right;\n",
       "    }\n",
       "</style>\n",
       "<table border=\"1\" class=\"dataframe\">\n",
       "  <thead>\n",
       "    <tr style=\"text-align: right;\">\n",
       "      <th></th>\n",
       "      <th>Qu1</th>\n",
       "      <th>Qu2</th>\n",
       "      <th>Qu3</th>\n",
       "    </tr>\n",
       "  </thead>\n",
       "  <tbody>\n",
       "    <tr>\n",
       "      <th>0</th>\n",
       "      <td>1</td>\n",
       "      <td>2</td>\n",
       "      <td>1</td>\n",
       "    </tr>\n",
       "    <tr>\n",
       "      <th>1</th>\n",
       "      <td>3</td>\n",
       "      <td>3</td>\n",
       "      <td>5</td>\n",
       "    </tr>\n",
       "    <tr>\n",
       "      <th>2</th>\n",
       "      <td>4</td>\n",
       "      <td>1</td>\n",
       "      <td>2</td>\n",
       "    </tr>\n",
       "    <tr>\n",
       "      <th>3</th>\n",
       "      <td>3</td>\n",
       "      <td>2</td>\n",
       "      <td>4</td>\n",
       "    </tr>\n",
       "    <tr>\n",
       "      <th>4</th>\n",
       "      <td>4</td>\n",
       "      <td>3</td>\n",
       "      <td>4</td>\n",
       "    </tr>\n",
       "  </tbody>\n",
       "</table>\n",
       "</div>"
      ],
      "text/plain": [
       "   Qu1  Qu2  Qu3\n",
       "0    1    2    1\n",
       "1    3    3    5\n",
       "2    4    1    2\n",
       "3    3    2    4\n",
       "4    4    3    4"
      ]
     },
     "execution_count": 3,
     "metadata": {},
     "output_type": "execute_result"
    }
   ],
   "source": [
    "data"
   ]
  },
  {
   "cell_type": "code",
   "execution_count": 4,
   "metadata": {},
   "outputs": [],
   "source": [
    "result = data.apply(pd.value_counts).fillna(0) # Passing pandas.value_counts to the apply function"
   ]
  },
  {
   "cell_type": "code",
   "execution_count": 5,
   "metadata": {},
   "outputs": [
    {
     "data": {
      "text/html": [
       "<div>\n",
       "<style scoped>\n",
       "    .dataframe tbody tr th:only-of-type {\n",
       "        vertical-align: middle;\n",
       "    }\n",
       "\n",
       "    .dataframe tbody tr th {\n",
       "        vertical-align: top;\n",
       "    }\n",
       "\n",
       "    .dataframe thead th {\n",
       "        text-align: right;\n",
       "    }\n",
       "</style>\n",
       "<table border=\"1\" class=\"dataframe\">\n",
       "  <thead>\n",
       "    <tr style=\"text-align: right;\">\n",
       "      <th></th>\n",
       "      <th>Qu1</th>\n",
       "      <th>Qu2</th>\n",
       "      <th>Qu3</th>\n",
       "    </tr>\n",
       "  </thead>\n",
       "  <tbody>\n",
       "    <tr>\n",
       "      <th>1</th>\n",
       "      <td>1.0</td>\n",
       "      <td>1.0</td>\n",
       "      <td>1.0</td>\n",
       "    </tr>\n",
       "    <tr>\n",
       "      <th>2</th>\n",
       "      <td>0.0</td>\n",
       "      <td>2.0</td>\n",
       "      <td>1.0</td>\n",
       "    </tr>\n",
       "    <tr>\n",
       "      <th>3</th>\n",
       "      <td>2.0</td>\n",
       "      <td>2.0</td>\n",
       "      <td>0.0</td>\n",
       "    </tr>\n",
       "    <tr>\n",
       "      <th>4</th>\n",
       "      <td>2.0</td>\n",
       "      <td>0.0</td>\n",
       "      <td>2.0</td>\n",
       "    </tr>\n",
       "    <tr>\n",
       "      <th>5</th>\n",
       "      <td>0.0</td>\n",
       "      <td>0.0</td>\n",
       "      <td>1.0</td>\n",
       "    </tr>\n",
       "  </tbody>\n",
       "</table>\n",
       "</div>"
      ],
      "text/plain": [
       "   Qu1  Qu2  Qu3\n",
       "1  1.0  1.0  1.0\n",
       "2  0.0  2.0  1.0\n",
       "3  2.0  2.0  0.0\n",
       "4  2.0  0.0  2.0\n",
       "5  0.0  0.0  1.0"
      ]
     },
     "execution_count": 5,
     "metadata": {},
     "output_type": "execute_result"
    }
   ],
   "source": [
    "result"
   ]
  },
  {
   "cell_type": "markdown",
   "metadata": {},
   "source": [
    "可以将结果理解为一个横的 histogram（例如Qu1, Qu2, Qu3 各有一个 1）"
   ]
  },
  {
   "cell_type": "code",
   "execution_count": null,
   "metadata": {},
   "outputs": [],
   "source": []
  }
 ],
 "metadata": {
  "kernelspec": {
   "display_name": "Python 3",
   "language": "python",
   "name": "python3"
  },
  "language_info": {
   "codemirror_mode": {
    "name": "ipython",
    "version": 3
   },
   "file_extension": ".py",
   "mimetype": "text/x-python",
   "name": "python",
   "nbconvert_exporter": "python",
   "pygments_lexer": "ipython3",
   "version": "3.8.3"
  }
 },
 "nbformat": 4,
 "nbformat_minor": 4
}
