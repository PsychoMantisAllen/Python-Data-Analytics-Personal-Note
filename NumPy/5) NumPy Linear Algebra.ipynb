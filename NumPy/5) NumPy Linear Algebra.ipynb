{
 "cells": [
  {
   "cell_type": "markdown",
   "metadata": {},
   "source": [
    "先前也有用到过`dot`这个公式来进行矩阵点积（不同于 MATLAB 之类的其他语言），现在再来示范一次"
   ]
  },
  {
   "cell_type": "code",
   "execution_count": 1,
   "metadata": {},
   "outputs": [],
   "source": [
    "import numpy as np"
   ]
  },
  {
   "cell_type": "code",
   "execution_count": 2,
   "metadata": {},
   "outputs": [],
   "source": [
    "x = np.array([[1., 2., 3.],[4., 5., 6.]])"
   ]
  },
  {
   "cell_type": "code",
   "execution_count": 3,
   "metadata": {},
   "outputs": [],
   "source": [
    "y = np.array([[6., 23.], [-1, 7], [8, 9]])"
   ]
  },
  {
   "cell_type": "code",
   "execution_count": 4,
   "metadata": {},
   "outputs": [
    {
     "data": {
      "text/plain": [
       "array([[1., 2., 3.],\n",
       "       [4., 5., 6.]])"
      ]
     },
     "execution_count": 4,
     "metadata": {},
     "output_type": "execute_result"
    }
   ],
   "source": [
    "x"
   ]
  },
  {
   "cell_type": "code",
   "execution_count": 5,
   "metadata": {},
   "outputs": [
    {
     "data": {
      "text/plain": [
       "array([[ 6., 23.],\n",
       "       [-1.,  7.],\n",
       "       [ 8.,  9.]])"
      ]
     },
     "execution_count": 5,
     "metadata": {},
     "output_type": "execute_result"
    }
   ],
   "source": [
    "y"
   ]
  },
  {
   "cell_type": "code",
   "execution_count": 6,
   "metadata": {},
   "outputs": [
    {
     "data": {
      "text/plain": [
       "array([[ 28.,  64.],\n",
       "       [ 67., 181.]])"
      ]
     },
     "execution_count": 6,
     "metadata": {},
     "output_type": "execute_result"
    }
   ],
   "source": [
    "x.dot(y)"
   ]
  },
  {
   "cell_type": "markdown",
   "metadata": {},
   "source": [
    "`x.dot(y)` 就是之前所提到过的`np.dot(x, y)`\n",
    "\n",
    "二维数组与适当大小的一维数组之间的矩阵乘积会生成一维数组"
   ]
  },
  {
   "cell_type": "code",
   "execution_count": 7,
   "metadata": {},
   "outputs": [
    {
     "data": {
      "text/plain": [
       "array([ 6., 15.])"
      ]
     },
     "execution_count": 7,
     "metadata": {},
     "output_type": "execute_result"
    }
   ],
   "source": [
    "np.dot(x, np.ones(3))"
   ]
  },
  {
   "cell_type": "markdown",
   "metadata": {},
   "source": [
    "也可以用 @ 符号来作为运行符"
   ]
  },
  {
   "cell_type": "code",
   "execution_count": 8,
   "metadata": {},
   "outputs": [
    {
     "data": {
      "text/plain": [
       "array([ 6., 15.])"
      ]
     },
     "execution_count": 8,
     "metadata": {},
     "output_type": "execute_result"
    }
   ],
   "source": [
    "x @ np.ones(3)"
   ]
  },
  {
   "cell_type": "markdown",
   "metadata": {},
   "source": [
    "`numpy.linalg`具有一组标准的矩阵分解以及诸如 inverse 和 determinant 之类的东西。这些是通过与其他语言（如BLAS，LAPACK，MATLAB和R等）相同的行业标准线性代数库在后台实现的，或者可能是（取决于您的NumPy构建）专有的英特尔MKL（Math Kernel Library）："
   ]
  },
  {
   "cell_type": "code",
   "execution_count": 9,
   "metadata": {},
   "outputs": [],
   "source": [
    "from numpy.linalg import inv, qr"
   ]
  },
  {
   "cell_type": "code",
   "execution_count": 10,
   "metadata": {},
   "outputs": [],
   "source": [
    "X = np.random.randn(5, 5)"
   ]
  },
  {
   "cell_type": "code",
   "execution_count": 15,
   "metadata": {},
   "outputs": [],
   "source": [
    "mat = X.T.dot(X)"
   ]
  },
  {
   "cell_type": "code",
   "execution_count": 16,
   "metadata": {},
   "outputs": [
    {
     "data": {
      "text/plain": [
       "array([[ 42.33450066,  26.80623131, -16.43936051, -16.42511337,\n",
       "         -1.28362885],\n",
       "       [ 26.80623131,  17.16029051, -10.47999706, -10.5387601 ,\n",
       "         -1.0425881 ],\n",
       "       [-16.43936051, -10.47999706,   6.64877962,   6.47684115,\n",
       "          0.77294077],\n",
       "       [-16.42511337, -10.5387601 ,   6.47684115,   6.72635403,\n",
       "          0.8654762 ],\n",
       "       [ -1.28362885,  -1.0425881 ,   0.77294077,   0.8654762 ,\n",
       "          0.90775098]])"
      ]
     },
     "execution_count": 16,
     "metadata": {},
     "output_type": "execute_result"
    }
   ],
   "source": [
    "inv(mat)"
   ]
  },
  {
   "cell_type": "code",
   "execution_count": 17,
   "metadata": {},
   "outputs": [
    {
     "data": {
      "text/plain": [
       "array([[ 1.00000000e+00,  1.77635684e-14, -1.26565425e-14,\n",
       "        -3.55271368e-15, -4.44089210e-16],\n",
       "       [ 1.70974346e-14,  1.00000000e+00,  1.77635684e-15,\n",
       "         8.88178420e-16, -4.44089210e-16],\n",
       "       [-7.99360578e-15, -1.06581410e-14,  1.00000000e+00,\n",
       "        -2.88657986e-15,  0.00000000e+00],\n",
       "       [ 5.32907052e-15,  9.76996262e-15,  2.22044605e-16,\n",
       "         1.00000000e+00,  6.66133815e-16],\n",
       "       [-1.02140518e-14, -9.76996262e-15,  4.44089210e-15,\n",
       "         9.32587341e-15,  1.00000000e+00]])"
      ]
     },
     "execution_count": 17,
     "metadata": {},
     "output_type": "execute_result"
    }
   ],
   "source": [
    "mat.dot(inv(mat))"
   ]
  },
  {
   "cell_type": "code",
   "execution_count": 18,
   "metadata": {},
   "outputs": [],
   "source": [
    "q, r = qr(mat) # QR Decomposition"
   ]
  },
  {
   "cell_type": "code",
   "execution_count": 19,
   "metadata": {},
   "outputs": [
    {
     "data": {
      "text/plain": [
       "array([[-7.17495085,  8.42353174, -3.83831269, -1.20516544,  4.31341305],\n",
       "       [ 0.        , -5.35483291, -3.8867391 , -5.01891869,  2.21783354],\n",
       "       [ 0.        ,  0.        , -3.40622618,  3.44212271, -0.46553213],\n",
       "       [ 0.        ,  0.        ,  0.        , -0.11198215,  0.99729144],\n",
       "       [ 0.        ,  0.        ,  0.        ,  0.        ,  0.45151484]])"
      ]
     },
     "execution_count": 19,
     "metadata": {},
     "output_type": "execute_result"
    }
   ],
   "source": [
    "r # Upper triangular matrix R"
   ]
  },
  {
   "cell_type": "code",
   "execution_count": 20,
   "metadata": {},
   "outputs": [
    {
     "data": {
      "text/plain": [
       "array([[-0.58725771, -0.05795109,  0.056495  ,  0.55916752, -0.57957747],\n",
       "       [ 0.64620172, -0.57658089, -0.09310678,  0.14038888, -0.47074399],\n",
       "       [-0.31873177, -0.51592368, -0.712994  ,  0.04555658,  0.34899422],\n",
       "       [-0.15755376, -0.5800341 ,  0.68844302,  0.10990038,  0.39077534],\n",
       "       [ 0.33337455,  0.24815186, -0.07632305,  0.80837439,  0.40986303]])"
      ]
     },
     "execution_count": 20,
     "metadata": {},
     "output_type": "execute_result"
    }
   ],
   "source": [
    "q # Orthogonal matrix Q"
   ]
  },
  {
   "cell_type": "markdown",
   "metadata": {},
   "source": [
    "以下是常用的一些`numpy.linalg`公式：\n",
    "\n",
    "Function | Description\n",
    ":- | :-\n",
    "`diag` | 以一维数组的形式返回矩阵的对角线（或非对角线）数值，或将一维数组转换为对角线对角为零的矩阵\n",
    "`dot` | 矩阵乘法\n",
    "`trace` | 计算对角线数值的总和\n",
    "`det` | 计算矩阵行列式(determinant)\n",
    "`eig` | 计算平方矩阵的特征值(eigenvalues)和特征向量(eigenvectors)\n",
    "`inv` | 计算方阵的逆(inverse)\n",
    "`pinv` | 计算矩阵的Moore-Penrose伪逆(Moore-Penrose pseudo-inverse)\n",
    "`qr` | 计算QR分解\n",
    "`svd` | 计算奇异值分解（SVD）\n",
    "`solve` | 对x求解线性系统Ax = b，其中A是一个方矩阵\n",
    "`lstsq` | 为Ax = b计算最小二乘解"
   ]
  },
  {
   "cell_type": "code",
   "execution_count": null,
   "metadata": {},
   "outputs": [],
   "source": []
  }
 ],
 "metadata": {
  "kernelspec": {
   "display_name": "Python 3",
   "language": "python",
   "name": "python3"
  },
  "language_info": {
   "codemirror_mode": {
    "name": "ipython",
    "version": 3
   },
   "file_extension": ".py",
   "mimetype": "text/x-python",
   "name": "python",
   "nbconvert_exporter": "python",
   "pygments_lexer": "ipython3",
   "version": "3.8.2"
  }
 },
 "nbformat": 4,
 "nbformat_minor": 4
}
