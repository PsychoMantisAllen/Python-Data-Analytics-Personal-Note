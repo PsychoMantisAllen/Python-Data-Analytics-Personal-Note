{
 "cells": [
  {
   "cell_type": "markdown",
   "metadata": {},
   "source": [
    "## Universal Functions: Fast Element - Wise Array Functions"
   ]
  },
  {
   "cell_type": "markdown",
   "metadata": {},
   "source": [
    "*ufunc* 就是在 Numpy 里面通常看到的 function，例如`sqrt`和`exp`这一类（通常叫做 *unary ufuncs*；还有`add`和`maximum`这一类的（叫做 *binary ufuncs*）"
   ]
  },
  {
   "cell_type": "markdown",
   "metadata": {},
   "source": [
    "1. *ufunc* 也可以返回多个数组，例如`modf`就很像 python 的 built-in `divmod` 一样"
   ]
  },
  {
   "cell_type": "code",
   "execution_count": 1,
   "metadata": {},
   "outputs": [],
   "source": [
    "import numpy as np"
   ]
  },
  {
   "cell_type": "code",
   "execution_count": 2,
   "metadata": {},
   "outputs": [],
   "source": [
    "arr = np.random.randn(7) * 5"
   ]
  },
  {
   "cell_type": "code",
   "execution_count": 3,
   "metadata": {},
   "outputs": [
    {
     "data": {
      "text/plain": [
       "array([  1.23111986, -13.91116137,   5.26884548,   2.39409698,\n",
       "        -4.43422299,  -2.4583342 ,   3.46041534])"
      ]
     },
     "execution_count": 3,
     "metadata": {},
     "output_type": "execute_result"
    }
   ],
   "source": [
    "arr"
   ]
  },
  {
   "cell_type": "code",
   "execution_count": 4,
   "metadata": {},
   "outputs": [],
   "source": [
    "remainder, whole_part = np.modf(arr)"
   ]
  },
  {
   "cell_type": "code",
   "execution_count": 5,
   "metadata": {},
   "outputs": [
    {
     "data": {
      "text/plain": [
       "array([ 0.23111986, -0.91116137,  0.26884548,  0.39409698, -0.43422299,\n",
       "       -0.4583342 ,  0.46041534])"
      ]
     },
     "execution_count": 5,
     "metadata": {},
     "output_type": "execute_result"
    }
   ],
   "source": [
    "remainder"
   ]
  },
  {
   "cell_type": "code",
   "execution_count": 6,
   "metadata": {},
   "outputs": [
    {
     "data": {
      "text/plain": [
       "array([  1., -13.,   5.,   2.,  -4.,  -2.,   3.])"
      ]
     },
     "execution_count": 6,
     "metadata": {},
     "output_type": "execute_result"
    }
   ],
   "source": [
    "whole_part"
   ]
  },
  {
   "cell_type": "markdown",
   "metadata": {},
   "source": [
    "2. *ufunc* 也接受 `out` 的参数来进行数组内操作（只不过会有提示 Warning not Error！）"
   ]
  },
  {
   "cell_type": "code",
   "execution_count": 7,
   "metadata": {},
   "outputs": [
    {
     "name": "stderr",
     "output_type": "stream",
     "text": [
      "<ipython-input-7-b58949107b3d>:1: RuntimeWarning: invalid value encountered in sqrt\n",
      "  np.sqrt(arr)\n"
     ]
    },
    {
     "data": {
      "text/plain": [
       "array([1.10955841,        nan, 2.29539658, 1.54728697,        nan,\n",
       "              nan, 1.86021916])"
      ]
     },
     "execution_count": 7,
     "metadata": {},
     "output_type": "execute_result"
    }
   ],
   "source": [
    "np.sqrt(arr)"
   ]
  },
  {
   "cell_type": "code",
   "execution_count": 8,
   "metadata": {},
   "outputs": [
    {
     "name": "stderr",
     "output_type": "stream",
     "text": [
      "<ipython-input-8-164954cb2c14>:1: RuntimeWarning: invalid value encountered in sqrt\n",
      "  np.sqrt(arr, arr)\n"
     ]
    },
    {
     "data": {
      "text/plain": [
       "array([1.10955841,        nan, 2.29539658, 1.54728697,        nan,\n",
       "              nan, 1.86021916])"
      ]
     },
     "execution_count": 8,
     "metadata": {},
     "output_type": "execute_result"
    }
   ],
   "source": [
    "np.sqrt(arr, arr)"
   ]
  },
  {
   "cell_type": "markdown",
   "metadata": {},
   "source": [
    "下面是一些比较常见的 *unary ufuncs*"
   ]
  },
  {
   "cell_type": "markdown",
   "metadata": {},
   "source": [
    "Function | Description\n",
    ":- | :-\n",
    "`abs`, `fabs` | 不用解释了吧~\n",
    "`sqrt` | ~？\n",
    "`square` | ~！\n",
    "`exp` | ~(⊙o⊙)？\n",
    "`log`, `log10`, `log2`, `log1p` | (　o=^•ェ•)o　┏━┓\n",
    "`sign` | 计算每个元素的符号：1（正），0（零）或–1（负）\n",
    "`ceil` | 计算每个元素的上限（例如大于或等于该数字的最小整数）\n",
    "`floor` | 计算每个元素的下限（即小于或等于每个元素的最大整数）\n",
    "`rint` | 将元素四舍五入到最接近的整数，并保留 dtype\n",
    "`modf` | 将数组的分数和整数部分作为单独的数组返回\n",
    "`isnan` | 返回 Boolean 数组，指示每个值是否为NaN（非数字）\n",
    "`isfinite`, `isinf` | 返回 Boolean 数组，分别指示每个元素是有限的（non-inf，non-NaN）还是无限的\n",
    "`cos`, `cosh`, `sin`, `sinh`, `tan`, `tanh` | Σ(っ °Д °;)っ\n",
    "`arccos`, `arccosh`, `arcsin`, `arcsinh`, `arctan`, `arctanh` | (:◎)≡\n",
    "`logical_not` | 计算非x元素的真值（等效于〜arr）"
   ]
  },
  {
   "cell_type": "markdown",
   "metadata": {},
   "source": [
    "`logical_not` 这个可能有些模糊如果第一次接触，下面给个例子："
   ]
  },
  {
   "cell_type": "code",
   "execution_count": 9,
   "metadata": {},
   "outputs": [],
   "source": [
    "x = np.arange(5)"
   ]
  },
  {
   "cell_type": "code",
   "execution_count": 10,
   "metadata": {},
   "outputs": [
    {
     "data": {
      "text/plain": [
       "array([0, 1, 2, 3, 4])"
      ]
     },
     "execution_count": 10,
     "metadata": {},
     "output_type": "execute_result"
    }
   ],
   "source": [
    "x"
   ]
  },
  {
   "cell_type": "code",
   "execution_count": 11,
   "metadata": {},
   "outputs": [
    {
     "data": {
      "text/plain": [
       "array([False, False, False,  True,  True])"
      ]
     },
     "execution_count": 11,
     "metadata": {},
     "output_type": "execute_result"
    }
   ],
   "source": [
    "np.logical_not(x < 3)"
   ]
  },
  {
   "cell_type": "markdown",
   "metadata": {},
   "source": [
    "接下来是比较常见的 *binary universal functions*:"
   ]
  },
  {
   "cell_type": "markdown",
   "metadata": {},
   "source": [
    "Function | Description\n",
    ":- | :-\n",
    "`add` | 加\n",
    "`subtract` | 减\n",
    "`multiply` | 乘\n",
    "`divide`, `floor_divide`| 除（把余数去掉）\n",
    "`power` | 幂\n",
    "`maximum`, `fmax` | 最大\n",
    "`minimum`, `fmin` | 最小\n",
    "`mod` | 逐元素系数（除法余数）\n",
    "`copysign` | 将第二个参数中的值的符号复制到第一个参数中的值\n",
    "`greater`, `greater_equal`, `less`, `less_equal`, `equal`, `not equal` | 赌大小了喂\n",
    "`logical_and`, `logical_or`, `logical_xor` | 计算逻辑运算的逐元素真值（等效于中缀运算符）"
   ]
  },
  {
   "cell_type": "code",
   "execution_count": null,
   "metadata": {},
   "outputs": [],
   "source": []
  }
 ],
 "metadata": {
  "kernelspec": {
   "display_name": "Python 3",
   "language": "python",
   "name": "python3"
  },
  "language_info": {
   "codemirror_mode": {
    "name": "ipython",
    "version": 3
   },
   "file_extension": ".py",
   "mimetype": "text/x-python",
   "name": "python",
   "nbconvert_exporter": "python",
   "pygments_lexer": "ipython3",
   "version": "3.8.2"
  }
 },
 "nbformat": 4,
 "nbformat_minor": 4
}
